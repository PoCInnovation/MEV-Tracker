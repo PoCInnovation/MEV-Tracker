{
 "cells": [
  {
   "cell_type": "markdown",
   "id": "384805b1",
   "metadata": {},
   "source": [
    "<img src=\"./image/data.png\"/>\n",
    "\n",
    "# Introduction #\n",
    "\n",
    "Welcome to this workshop, the objective of this workshop is to analyze data using pandas.\\\n",
    "For this we will use a dataset that represents competitive league of legends games in 2020.\n",
    "\n",
    "Data analysis is closely related to artificial intelligence.\\\n",
    "Indeed, when we want to set up an artificial intelligence model, we usually have raw data,\\\n",
    "to get good results it is important to work on these raw data, in order to obtain meaningful data.\n",
    "\n",
    "In this workshop:\n",
    "   - Data analysis.\n",
    "   - Data processing.\n",
    "   \n",
    "For this we will use the pandas library : [pandas](https://pandas.pydata.org/)"
   ]
  },
  {
   "cell_type": "markdown",
   "id": "688401cc",
   "metadata": {},
   "source": [
    "### Requirements\n",
    "\n",
    "Check that you have pandas installed, if not open your shell and run the command: `pip3 install pandas`\\\n",
    "Make sure you have the `matches2020.csv` file to start the workshop.\n",
    "\n",
    "In this workshop you will analyze a csv file.\\\n",
    "I strongly advise you not to use any loop (for, while ... ect)\\\n",
    "Indeed this workshop is made to be successful without the use of any loop,\\\n",
    "Read the documentation, search on the web, and come to the supervisors if you get stuck on a part for too long."
   ]
  },
  {
   "cell_type": "code",
   "execution_count": 209,
   "id": "f8b97516",
   "metadata": {},
   "outputs": [
    {
     "name": "stdout",
     "output_type": "stream",
     "text": [
      "1.league_of_legends_analysis.ipynb\tdatasets  README.md\n",
      "2.video_games_data_visualisation.ipynb\timage\n"
     ]
    }
   ],
   "source": [
    "!ls"
   ]
  },
  {
   "cell_type": "markdown",
   "id": "602e0a6e",
   "metadata": {},
   "source": [
    "### Import\n",
    "\n",
    "To start, it is necessary to import `pandas`, we give it the alias `pd` to be able to use its methods more easily.\\\n",
    "If you don't know what a method is I advise you to start with the workshop : `python basics`"
   ]
  },
  {
   "cell_type": "code",
   "execution_count": 210,
   "id": "5496c943",
   "metadata": {},
   "outputs": [],
   "source": [
    "import pandas as pd"
   ]
  },
  {
   "cell_type": "markdown",
   "id": "8e7065a6",
   "metadata": {},
   "source": [
    "## Read & Verify\n",
    "\n",
    "Here we are at our first task, the difficulty will increase gradually.\n",
    "\n",
    "\n",
    "For now pandas needs to read the csv to be able to use it.\\\n",
    "You have to read the file : `matches2020.csv`\\\n",
    "Since it is the first task, here is the link of the function : [read_csv](https://pandas.pydata.org/pandas-docs/stable/reference/api/pandas.read_csv.html)\\\n",
    "For the next steps, I will let you search in the documentation: [documentation](https://pandas.pydata.org/docs/index.html)"
   ]
  },
  {
   "cell_type": "code",
   "execution_count": 211,
   "id": "28ec7b15",
   "metadata": {},
   "outputs": [],
   "source": [
    "#read the file : matches2020.csv with the function read_csv\n",
    "\n",
    "data = pd.read_csv('./datasets/matches2020.csv')"
   ]
  },
  {
   "cell_type": "markdown",
   "id": "83ff96c8",
   "metadata": {},
   "source": [
    "Congratulations, you have successfully completed the first task,\n",
    "\n",
    "\n",
    "The second task is to display the dataframe using the [head](https://pandas.pydata.org/docs/reference/api/pandas.DataFrame.head.html) method.\\\n",
    "head will by default display the first 5 lines if you don't set any parameters."
   ]
  },
  {
   "cell_type": "code",
   "execution_count": 212,
   "id": "b8ec62b6",
   "metadata": {},
   "outputs": [
    {
     "name": "stdout",
     "output_type": "stream",
     "text": [
      "   Unnamed: 0                 gameid league        blueteam         redteam  \\\n",
      "0           0  ESPORTSTMNT03/1241318  KeSPA  SANDBOX Gaming              T1   \n",
      "1           1  ESPORTSTMNT03/1241322  KeSPA              T1  SANDBOX Gaming   \n",
      "2           2  ESPORTSTMNT03/1241324  KeSPA              T1  SANDBOX Gaming   \n",
      "3           3  ESPORTSTMNT03/1241328  KeSPA              T1  SANDBOX Gaming   \n",
      "4           4  ESPORTSTMNT03/1241386  KeSPA             DRX  Afreeca Freecs   \n",
      "\n",
      "       bluetop bluejungle      bluemid      blueadc bluesupport    redtop  \\\n",
      "0       Rumble      Elise       Qiyana  MissFortune    Nautilus    Aatrox   \n",
      "1        Jayce   JarvanIV      Orianna  MissFortune    Nautilus    Aatrox   \n",
      "2     Renekton     RekSai  Mordekaiser        Xayah       Rakan    Aatrox   \n",
      "3     Pantheon      Elise     Nautilus        Xayah       Rakan     Quinn   \n",
      "4  Mordekaiser   JarvanIV         Ryze        Xayah       Rakan  Renekton   \n",
      "\n",
      "  redjungle       redmid       redadc redsupport  result  \n",
      "0    Gragas  Mordekaiser        Xayah      Rakan       1  \n",
      "1     Elise       Qiyana        Varus  TahmKench       0  \n",
      "2   Sejuani         Azir  MissFortune   Nautilus       1  \n",
      "3      Olaf      Orianna  MissFortune      Leona       0  \n",
      "4     Elise       Velkoz        Varus      Braum       0  \n"
     ]
    }
   ],
   "source": [
    "# Use the head method\n",
    "print(data.head())"
   ]
  },
  {
   "cell_type": "markdown",
   "id": "b9ef744c",
   "metadata": {},
   "source": [
    "**Expected output:** \\\n",
    "<img src=\"./image/head_result.png\"/>"
   ]
  },
  {
   "cell_type": "markdown",
   "id": "e65be67e",
   "metadata": {},
   "source": [
    "### Dataset length\n",
    "\n",
    "We can observe that indeed our dataset contains information about competitive league of legends games in 2020.\\\n",
    "I will describe the different columns :\n",
    "- the **id** of the game,\n",
    "- the **league**, in league of legends the competition is divided in different regional leagues,\\\n",
    "especially the LFL which is the french league and the LEC which is the european league.\n",
    "- the **name** of the blue team,\n",
    "- the **name** of the red team,\n",
    "- in a game of league of legends there are 5 different roles, \\\n",
    "the **top**, the **mid**, the **jungle**, the **adc** and the **support**, to each role corresponds its champion pool.\n",
    "- the result, equal to 1 if the blue team wins otherwise equal to 0\n",
    "\n",
    "You have to return the total number of games of the dataset."
   ]
  },
  {
   "cell_type": "code",
   "execution_count": 213,
   "id": "0ee878fa",
   "metadata": {},
   "outputs": [],
   "source": [
    "#return the number of games\n",
    "\n",
    "def number_of_games(df):\n",
    "    return df.shape[0]"
   ]
  },
  {
   "cell_type": "code",
   "execution_count": 214,
   "id": "57f408f6",
   "metadata": {},
   "outputs": [
    {
     "data": {
      "text/plain": [
       "5612"
      ]
     },
     "execution_count": 214,
     "metadata": {},
     "output_type": "execute_result"
    }
   ],
   "source": [
    "number_of_games(data)"
   ]
  },
  {
   "cell_type": "markdown",
   "id": "4a03dea3",
   "metadata": {},
   "source": [
    "**Expected output :** `5612`\n"
   ]
  },
  {
   "cell_type": "markdown",
   "id": "2e252523",
   "metadata": {},
   "source": [
    "The LFL is the French league, teams like Vitality or LDLC play there. \\\n",
    "you will need to return the number of competitive games in the LFL in 2020.\n",
    "\n",
    "Try to create a variable that retrieves only the games where the League column is equal to `LFL`,\\\n",
    "then apply the same method as before."
   ]
  },
  {
   "cell_type": "code",
   "execution_count": 215,
   "id": "2599646b",
   "metadata": {},
   "outputs": [],
   "source": [
    "#return the number of games in LFL\n",
    "\n",
    "def number_of_games_lfl(df):\n",
    "    return df.loc[df['league'] == 'LFL'].shape[0]"
   ]
  },
  {
   "cell_type": "code",
   "execution_count": 216,
   "id": "5e044081",
   "metadata": {},
   "outputs": [
    {
     "data": {
      "text/plain": [
       "129"
      ]
     },
     "execution_count": 216,
     "metadata": {},
     "output_type": "execute_result"
    }
   ],
   "source": [
    "number_of_games_lfl(data)"
   ]
  },
  {
   "cell_type": "markdown",
   "id": "b15a2a3e",
   "metadata": {},
   "source": [
    "**Expected output :** `129`"
   ]
  },
  {
   "cell_type": "markdown",
   "id": "3eba9b27",
   "metadata": {},
   "source": [
    "### Winrate\n",
    "\n",
    "Bravo, you managed to get the parts of LFL and to count them\n",
    "\n",
    "Let's go to the next level, \\\n",
    "In league of legends, the map has a blue side and a red side,\\\n",
    "the goal of the red team is to destroy the base on the blue side while the blue team must destroy the base on the red side.\\\n",
    "There is a rumor that being on the blue side gives an advantage to the team, check this rumor.\n",
    "\n",
    "try to calculate the winrate of a team when it is on the `red` side.\\\n",
    "Don't forget that when the red team loses, the `result` is 1 and when it wins, the `result` is 0."
   ]
  },
  {
   "cell_type": "code",
   "execution_count": 217,
   "id": "3e1453f6",
   "metadata": {},
   "outputs": [],
   "source": [
    "#Calculate redsite winrate\n",
    "\n",
    "def redside_winrate(df):\n",
    "    return 1 - df.loc[df['result'] == 1].shape[0] / df.shape[0]"
   ]
  },
  {
   "cell_type": "code",
   "execution_count": 218,
   "id": "a8bd24ed",
   "metadata": {},
   "outputs": [
    {
     "data": {
      "text/plain": [
       "0.4718460441910193"
      ]
     },
     "execution_count": 218,
     "metadata": {},
     "output_type": "execute_result"
    }
   ],
   "source": [
    "redside_winrate(data)"
   ]
  },
  {
   "cell_type": "markdown",
   "id": "ed43f2af",
   "metadata": {},
   "source": [
    "**Expected output :** `0.4718460441910192`"
   ]
  },
  {
   "cell_type": "markdown",
   "id": "c331fd10",
   "metadata": {},
   "source": [
    "### List without duplicates\n",
    "\n",
    "Well done.\\\n",
    "But one question is on my mind.\\\n",
    "Which teams are in the French League of Legends (LFL)?\\\n",
    "List the LFL teams without duplicates"
   ]
  },
  {
   "cell_type": "code",
   "execution_count": 219,
   "id": "a9ff15bd",
   "metadata": {},
   "outputs": [],
   "source": [
    "#return the list of LFL teams without duplicates\n",
    "\n",
    "def list_equip_lfl(df):\n",
    "    return df.loc[df['league'] == 'LFL']['blueteam'].drop_duplicates()"
   ]
  },
  {
   "cell_type": "code",
   "execution_count": 220,
   "id": "58bdc608",
   "metadata": {},
   "outputs": [
    {
     "data": {
      "text/plain": [
       "45    Misfits Premier\n",
       "46           GameWard\n",
       "47             Solary\n",
       "48       Vitality.Bee\n",
       "50       GamersOrigin\n",
       "51            LDLC OL\n",
       "93          Team MCES\n",
       "95          IZI Dream\n",
       "Name: blueteam, dtype: object"
      ]
     },
     "execution_count": 220,
     "metadata": {},
     "output_type": "execute_result"
    }
   ],
   "source": [
    "list_equip_lfl(data)"
   ]
  },
  {
   "cell_type": "markdown",
   "id": "9903527a",
   "metadata": {},
   "source": [
    "**Expected output :** ```array(['Misfits Premier', 'GameWard', 'Solary', 'Vitality.Bee', 'GamersOrigin', 'LDLC OL', 'Team MCES', 'IZI Dream'], dtype=object)```"
   ]
  },
  {
   "cell_type": "markdown",
   "id": "451648c4",
   "metadata": {},
   "source": [
    "### Recurrent value\n",
    "\n",
    "Well done, it looks like there were 8 teams in the LFL in 2020.\n",
    "\n",
    "League of Legends is a game where the meta changes regularly,\\\n",
    "every year some champions dominate the game,\\\n",
    "The few games I played, I played the mid role.\\\n",
    "Which champion has been playing the most in mid. \\\n",
    "What is the value that appears the most in the columns: `bluemid` and `redmid` ?"
   ]
  },
  {
   "cell_type": "code",
   "execution_count": 221,
   "id": "322fcca9",
   "metadata": {},
   "outputs": [],
   "source": [
    "#return the name of the champion who is the most played in midlane\n",
    "\n",
    "def top_pick_mid(df):\n",
    "    blue_red = pd.concat([df['bluemid'], df['redmid']])\n",
    "    return blue_red.value_counts().idxmax()"
   ]
  },
  {
   "cell_type": "code",
   "execution_count": 222,
   "id": "203583fb",
   "metadata": {},
   "outputs": [
    {
     "data": {
      "text/plain": [
       "'Zoe'"
      ]
     },
     "execution_count": 222,
     "metadata": {},
     "output_type": "execute_result"
    }
   ],
   "source": [
    "top_pick_mid(data)"
   ]
  },
  {
   "cell_type": "markdown",
   "id": "47c9f209",
   "metadata": {},
   "source": [
    "**Expected output :** `'Zoe'`"
   ]
  },
  {
   "cell_type": "markdown",
   "id": "1f4d103b",
   "metadata": {},
   "source": [
    "Ah Zoé,\\\n",
    "The famous bubbles that, when they touch you, make you wake up at your fountain.\n",
    "\n",
    "More seriously, Zoé seems to have been extremely played in the mid.\\\n",
    "But all roles taken together,which are the 5 champions who have been the most played.\n",
    "\n",
    "To do this look at the 5 roles of both teams to see which value appears the most : \\\n",
    "`bluetop`, `bluejungle`, `bluemid`, `blueadc`, `bluesupport`, `redtop`, `redjungle`, `redmid`, `redadc`, `redsupport`.\n",
    "\n",
    "Good luck!"
   ]
  },
  {
   "cell_type": "code",
   "execution_count": null,
   "id": "ac7a3954",
   "metadata": {},
   "outputs": [],
   "source": []
  },
  {
   "cell_type": "code",
   "execution_count": 223,
   "id": "86632693",
   "metadata": {},
   "outputs": [],
   "source": [
    "#return the five most played champions (top, mid, jungle, adc, support)\n",
    "\n",
    "def ranking_all_pick(df):\n",
    "    return pd.concat([df['bluetop'], df['bluejungle'], df['bluemid'], df['blueadc'], df['bluesupport'], df['redtop'], df['redjungle'], df['redmid'], df['redadc'], df['redsupport']]).value_counts()"
   ]
  },
  {
   "cell_type": "code",
   "execution_count": 224,
   "id": "66a21821",
   "metadata": {},
   "outputs": [
    {
     "data": {
      "text/plain": [
       "Aphelios    2147\n",
       "Nautilus    2084\n",
       "Sett        1816\n",
       "Thresh      1730\n",
       "Ornn        1700\n",
       "dtype: int64"
      ]
     },
     "execution_count": 224,
     "metadata": {},
     "output_type": "execute_result"
    }
   ],
   "source": [
    "ranking_all_pick(data).head()"
   ]
  },
  {
   "cell_type": "markdown",
   "id": "897641ac",
   "metadata": {},
   "source": [
    "**Expected output :** \n",
    "\n",
    "`Aphelios    2147\n",
    " Nautilus    2084\n",
    " Sett        1816\n",
    " Thresh      1730\n",
    " Ornn        1700\n",
    " dtype: int64`"
   ]
  },
  {
   "cell_type": "markdown",
   "id": "7e723972",
   "metadata": {},
   "source": [
    "### Winrate in LEC\n",
    "\n",
    "Zoë is finally not even in the top 5 most played champions, maybe she was ban most of the time.\\\n",
    "Aphelios seems to have dominated the summoner's rift.\n",
    "\n",
    "The LEC is the European league one rank above the LFL, the dream of every European player. \\\n",
    "I wonder which team was able to dominate this league.\\\n",
    "List the different teams in the LEC league and their number of wins."
   ]
  },
  {
   "cell_type": "code",
   "execution_count": 225,
   "id": "19dda682",
   "metadata": {},
   "outputs": [],
   "source": [
    "#return the number of wins for each team in the LEC league\n",
    "\n",
    "def get_lec_teams(df):\n",
    "    return df.loc[df['league'] == 'LEC']['blueteam'].drop_duplicates()\n",
    "\n",
    "\n",
    "def display_wins_per_teams(df):\n",
    "    wins = {}\n",
    "    for team in get_lec_teams(df):\n",
    "        wins[team] = df.loc[df['blueteam'] == team & df['result'] == 1].value_counts().idxmax()\n",
    "    print(wins)\n",
    "    # return df.loc[df['blueteam'] == get_lec_teams(df)]"
   ]
  },
  {
   "cell_type": "code",
   "execution_count": 226,
   "id": "6ebe6022",
   "metadata": {},
   "outputs": [
    {
     "ename": "TypeError",
     "evalue": "Cannot perform 'rand_' with a dtyped [int64] array and scalar of type [bool]",
     "output_type": "error",
     "traceback": [
      "\u001b[0;31m---------------------------------------------------------------------------\u001b[0m",
      "\u001b[0;31mTypeError\u001b[0m                                 Traceback (most recent call last)",
      "File \u001b[0;32m~/.local/lib/python3.9/site-packages/pandas/core/ops/array_ops.py:301\u001b[0m, in \u001b[0;36mna_logical_op\u001b[0;34m(x, y, op)\u001b[0m\n\u001b[1;32m    <a href='file:///home/agrare/.local/lib/python3.9/site-packages/pandas/core/ops/array_ops.py?line=291'>292</a>\u001b[0m \u001b[39mtry\u001b[39;00m:\n\u001b[1;32m    <a href='file:///home/agrare/.local/lib/python3.9/site-packages/pandas/core/ops/array_ops.py?line=292'>293</a>\u001b[0m     \u001b[39m# For exposition, write:\u001b[39;00m\n\u001b[1;32m    <a href='file:///home/agrare/.local/lib/python3.9/site-packages/pandas/core/ops/array_ops.py?line=293'>294</a>\u001b[0m     \u001b[39m#  yarr = isinstance(y, np.ndarray)\u001b[39;00m\n\u001b[0;32m   (...)\u001b[0m\n\u001b[1;32m    <a href='file:///home/agrare/.local/lib/python3.9/site-packages/pandas/core/ops/array_ops.py?line=298'>299</a>\u001b[0m     \u001b[39m# Then Cases where this goes through without raising include:\u001b[39;00m\n\u001b[1;32m    <a href='file:///home/agrare/.local/lib/python3.9/site-packages/pandas/core/ops/array_ops.py?line=299'>300</a>\u001b[0m     \u001b[39m#  (xint or xbool) and (yint or bool)\u001b[39;00m\n\u001b[0;32m--> <a href='file:///home/agrare/.local/lib/python3.9/site-packages/pandas/core/ops/array_ops.py?line=300'>301</a>\u001b[0m     result \u001b[39m=\u001b[39m op(x, y)\n\u001b[1;32m    <a href='file:///home/agrare/.local/lib/python3.9/site-packages/pandas/core/ops/array_ops.py?line=301'>302</a>\u001b[0m \u001b[39mexcept\u001b[39;00m \u001b[39mTypeError\u001b[39;00m:\n",
      "File \u001b[0;32m~/.local/lib/python3.9/site-packages/pandas/core/roperator.py:52\u001b[0m, in \u001b[0;36mrand_\u001b[0;34m(left, right)\u001b[0m\n\u001b[1;32m     <a href='file:///home/agrare/.local/lib/python3.9/site-packages/pandas/core/roperator.py?line=50'>51</a>\u001b[0m \u001b[39mdef\u001b[39;00m \u001b[39mrand_\u001b[39m(left, right):\n\u001b[0;32m---> <a href='file:///home/agrare/.local/lib/python3.9/site-packages/pandas/core/roperator.py?line=51'>52</a>\u001b[0m     \u001b[39mreturn\u001b[39;00m operator\u001b[39m.\u001b[39;49mand_(right, left)\n",
      "\u001b[0;31mTypeError\u001b[0m: ufunc 'bitwise_and' not supported for the input types, and the inputs could not be safely coerced to any supported types according to the casting rule ''safe''",
      "\nDuring handling of the above exception, another exception occurred:\n",
      "\u001b[0;31mValueError\u001b[0m                                Traceback (most recent call last)",
      "File \u001b[0;32m~/.local/lib/python3.9/site-packages/pandas/core/ops/array_ops.py:315\u001b[0m, in \u001b[0;36mna_logical_op\u001b[0;34m(x, y, op)\u001b[0m\n\u001b[1;32m    <a href='file:///home/agrare/.local/lib/python3.9/site-packages/pandas/core/ops/array_ops.py?line=313'>314</a>\u001b[0m \u001b[39mtry\u001b[39;00m:\n\u001b[0;32m--> <a href='file:///home/agrare/.local/lib/python3.9/site-packages/pandas/core/ops/array_ops.py?line=314'>315</a>\u001b[0m     result \u001b[39m=\u001b[39m libops\u001b[39m.\u001b[39;49mscalar_binop(x, y, op)\n\u001b[1;32m    <a href='file:///home/agrare/.local/lib/python3.9/site-packages/pandas/core/ops/array_ops.py?line=315'>316</a>\u001b[0m \u001b[39mexcept\u001b[39;00m (\n\u001b[1;32m    <a href='file:///home/agrare/.local/lib/python3.9/site-packages/pandas/core/ops/array_ops.py?line=316'>317</a>\u001b[0m     \u001b[39mTypeError\u001b[39;00m,\n\u001b[1;32m    <a href='file:///home/agrare/.local/lib/python3.9/site-packages/pandas/core/ops/array_ops.py?line=317'>318</a>\u001b[0m     \u001b[39mValueError\u001b[39;00m,\n\u001b[0;32m   (...)\u001b[0m\n\u001b[1;32m    <a href='file:///home/agrare/.local/lib/python3.9/site-packages/pandas/core/ops/array_ops.py?line=320'>321</a>\u001b[0m     \u001b[39mNotImplementedError\u001b[39;00m,\n\u001b[1;32m    <a href='file:///home/agrare/.local/lib/python3.9/site-packages/pandas/core/ops/array_ops.py?line=321'>322</a>\u001b[0m ) \u001b[39mas\u001b[39;00m err:\n",
      "File \u001b[0;32m~/.local/lib/python3.9/site-packages/pandas/_libs/ops.pyx:180\u001b[0m, in \u001b[0;36mpandas._libs.ops.scalar_binop\u001b[0;34m()\u001b[0m\n",
      "\u001b[0;31mValueError\u001b[0m: Buffer dtype mismatch, expected 'Python object' but got 'long'",
      "\nThe above exception was the direct cause of the following exception:\n",
      "\u001b[0;31mTypeError\u001b[0m                                 Traceback (most recent call last)",
      "\u001b[1;32m/home/agrare/PoC/MEV-Tracker/AlexG/1.Data_Science_Pandas/1.league_of_legends_analysis.ipynb Cell 37'\u001b[0m in \u001b[0;36m<cell line: 1>\u001b[0;34m()\u001b[0m\n\u001b[0;32m----> <a href='vscode-notebook-cell:/home/agrare/PoC/MEV-Tracker/AlexG/1.Data_Science_Pandas/1.league_of_legends_analysis.ipynb#ch0000036?line=0'>1</a>\u001b[0m display_wins_per_teams(data)\n",
      "\u001b[1;32m/home/agrare/PoC/MEV-Tracker/AlexG/1.Data_Science_Pandas/1.league_of_legends_analysis.ipynb Cell 36'\u001b[0m in \u001b[0;36mdisplay_wins_per_teams\u001b[0;34m(df)\u001b[0m\n\u001b[1;32m      <a href='vscode-notebook-cell:/home/agrare/PoC/MEV-Tracker/AlexG/1.Data_Science_Pandas/1.league_of_legends_analysis.ipynb#ch0000035?line=7'>8</a>\u001b[0m wins \u001b[39m=\u001b[39m {}\n\u001b[1;32m      <a href='vscode-notebook-cell:/home/agrare/PoC/MEV-Tracker/AlexG/1.Data_Science_Pandas/1.league_of_legends_analysis.ipynb#ch0000035?line=8'>9</a>\u001b[0m \u001b[39mfor\u001b[39;00m team \u001b[39min\u001b[39;00m get_lec_teams(df):\n\u001b[0;32m---> <a href='vscode-notebook-cell:/home/agrare/PoC/MEV-Tracker/AlexG/1.Data_Science_Pandas/1.league_of_legends_analysis.ipynb#ch0000035?line=9'>10</a>\u001b[0m     wins[team] \u001b[39m=\u001b[39m df\u001b[39m.\u001b[39mloc[df[\u001b[39m'\u001b[39m\u001b[39mblueteam\u001b[39m\u001b[39m'\u001b[39m] \u001b[39m==\u001b[39m team \u001b[39m&\u001b[39;49m df[\u001b[39m'\u001b[39;49m\u001b[39mresult\u001b[39;49m\u001b[39m'\u001b[39;49m] \u001b[39m==\u001b[39m \u001b[39m1\u001b[39m]\u001b[39m.\u001b[39mvalue_counts()\u001b[39m.\u001b[39midxmax()\n\u001b[1;32m     <a href='vscode-notebook-cell:/home/agrare/PoC/MEV-Tracker/AlexG/1.Data_Science_Pandas/1.league_of_legends_analysis.ipynb#ch0000035?line=10'>11</a>\u001b[0m \u001b[39mprint\u001b[39m(wins)\n",
      "File \u001b[0;32m~/.local/lib/python3.9/site-packages/pandas/core/ops/common.py:70\u001b[0m, in \u001b[0;36m_unpack_zerodim_and_defer.<locals>.new_method\u001b[0;34m(self, other)\u001b[0m\n\u001b[1;32m     <a href='file:///home/agrare/.local/lib/python3.9/site-packages/pandas/core/ops/common.py?line=65'>66</a>\u001b[0m             \u001b[39mreturn\u001b[39;00m \u001b[39mNotImplemented\u001b[39m\n\u001b[1;32m     <a href='file:///home/agrare/.local/lib/python3.9/site-packages/pandas/core/ops/common.py?line=67'>68</a>\u001b[0m other \u001b[39m=\u001b[39m item_from_zerodim(other)\n\u001b[0;32m---> <a href='file:///home/agrare/.local/lib/python3.9/site-packages/pandas/core/ops/common.py?line=69'>70</a>\u001b[0m \u001b[39mreturn\u001b[39;00m method(\u001b[39mself\u001b[39;49m, other)\n",
      "File \u001b[0;32m~/.local/lib/python3.9/site-packages/pandas/core/arraylike.py:74\u001b[0m, in \u001b[0;36mOpsMixin.__rand__\u001b[0;34m(self, other)\u001b[0m\n\u001b[1;32m     <a href='file:///home/agrare/.local/lib/python3.9/site-packages/pandas/core/arraylike.py?line=71'>72</a>\u001b[0m \u001b[39m@unpack_zerodim_and_defer\u001b[39m(\u001b[39m\"\u001b[39m\u001b[39m__rand__\u001b[39m\u001b[39m\"\u001b[39m)\n\u001b[1;32m     <a href='file:///home/agrare/.local/lib/python3.9/site-packages/pandas/core/arraylike.py?line=72'>73</a>\u001b[0m \u001b[39mdef\u001b[39;00m \u001b[39m__rand__\u001b[39m(\u001b[39mself\u001b[39m, other):\n\u001b[0;32m---> <a href='file:///home/agrare/.local/lib/python3.9/site-packages/pandas/core/arraylike.py?line=73'>74</a>\u001b[0m     \u001b[39mreturn\u001b[39;00m \u001b[39mself\u001b[39;49m\u001b[39m.\u001b[39;49m_logical_method(other, roperator\u001b[39m.\u001b[39;49mrand_)\n",
      "File \u001b[0;32m~/.local/lib/python3.9/site-packages/pandas/core/series.py:5634\u001b[0m, in \u001b[0;36mSeries._logical_method\u001b[0;34m(self, other, op)\u001b[0m\n\u001b[1;32m   <a href='file:///home/agrare/.local/lib/python3.9/site-packages/pandas/core/series.py?line=5630'>5631</a>\u001b[0m lvalues \u001b[39m=\u001b[39m \u001b[39mself\u001b[39m\u001b[39m.\u001b[39m_values\n\u001b[1;32m   <a href='file:///home/agrare/.local/lib/python3.9/site-packages/pandas/core/series.py?line=5631'>5632</a>\u001b[0m rvalues \u001b[39m=\u001b[39m extract_array(other, extract_numpy\u001b[39m=\u001b[39m\u001b[39mTrue\u001b[39;00m, extract_range\u001b[39m=\u001b[39m\u001b[39mTrue\u001b[39;00m)\n\u001b[0;32m-> <a href='file:///home/agrare/.local/lib/python3.9/site-packages/pandas/core/series.py?line=5633'>5634</a>\u001b[0m res_values \u001b[39m=\u001b[39m ops\u001b[39m.\u001b[39;49mlogical_op(lvalues, rvalues, op)\n\u001b[1;32m   <a href='file:///home/agrare/.local/lib/python3.9/site-packages/pandas/core/series.py?line=5634'>5635</a>\u001b[0m \u001b[39mreturn\u001b[39;00m \u001b[39mself\u001b[39m\u001b[39m.\u001b[39m_construct_result(res_values, name\u001b[39m=\u001b[39mres_name)\n",
      "File \u001b[0;32m~/.local/lib/python3.9/site-packages/pandas/core/ops/array_ops.py:391\u001b[0m, in \u001b[0;36mlogical_op\u001b[0;34m(left, right, op)\u001b[0m\n\u001b[1;32m    <a href='file:///home/agrare/.local/lib/python3.9/site-packages/pandas/core/ops/array_ops.py?line=386'>387</a>\u001b[0m \u001b[39m# For int vs int `^`, `|`, `&` are bitwise operators and return\u001b[39;00m\n\u001b[1;32m    <a href='file:///home/agrare/.local/lib/python3.9/site-packages/pandas/core/ops/array_ops.py?line=387'>388</a>\u001b[0m \u001b[39m#   integer dtypes.  Otherwise these are boolean ops\u001b[39;00m\n\u001b[1;32m    <a href='file:///home/agrare/.local/lib/python3.9/site-packages/pandas/core/ops/array_ops.py?line=388'>389</a>\u001b[0m filler \u001b[39m=\u001b[39m fill_int \u001b[39mif\u001b[39;00m is_self_int_dtype \u001b[39mand\u001b[39;00m is_other_int_dtype \u001b[39melse\u001b[39;00m fill_bool\n\u001b[0;32m--> <a href='file:///home/agrare/.local/lib/python3.9/site-packages/pandas/core/ops/array_ops.py?line=390'>391</a>\u001b[0m res_values \u001b[39m=\u001b[39m na_logical_op(lvalues, rvalues, op)\n\u001b[1;32m    <a href='file:///home/agrare/.local/lib/python3.9/site-packages/pandas/core/ops/array_ops.py?line=391'>392</a>\u001b[0m \u001b[39m# error: Cannot call function of unknown type\u001b[39;00m\n\u001b[1;32m    <a href='file:///home/agrare/.local/lib/python3.9/site-packages/pandas/core/ops/array_ops.py?line=392'>393</a>\u001b[0m res_values \u001b[39m=\u001b[39m filler(res_values)  \u001b[39m# type: ignore[operator]\u001b[39;00m\n",
      "File \u001b[0;32m~/.local/lib/python3.9/site-packages/pandas/core/ops/array_ops.py:324\u001b[0m, in \u001b[0;36mna_logical_op\u001b[0;34m(x, y, op)\u001b[0m\n\u001b[1;32m    <a href='file:///home/agrare/.local/lib/python3.9/site-packages/pandas/core/ops/array_ops.py?line=315'>316</a>\u001b[0m         \u001b[39mexcept\u001b[39;00m (\n\u001b[1;32m    <a href='file:///home/agrare/.local/lib/python3.9/site-packages/pandas/core/ops/array_ops.py?line=316'>317</a>\u001b[0m             \u001b[39mTypeError\u001b[39;00m,\n\u001b[1;32m    <a href='file:///home/agrare/.local/lib/python3.9/site-packages/pandas/core/ops/array_ops.py?line=317'>318</a>\u001b[0m             \u001b[39mValueError\u001b[39;00m,\n\u001b[0;32m   (...)\u001b[0m\n\u001b[1;32m    <a href='file:///home/agrare/.local/lib/python3.9/site-packages/pandas/core/ops/array_ops.py?line=320'>321</a>\u001b[0m             \u001b[39mNotImplementedError\u001b[39;00m,\n\u001b[1;32m    <a href='file:///home/agrare/.local/lib/python3.9/site-packages/pandas/core/ops/array_ops.py?line=321'>322</a>\u001b[0m         ) \u001b[39mas\u001b[39;00m err:\n\u001b[1;32m    <a href='file:///home/agrare/.local/lib/python3.9/site-packages/pandas/core/ops/array_ops.py?line=322'>323</a>\u001b[0m             typ \u001b[39m=\u001b[39m \u001b[39mtype\u001b[39m(y)\u001b[39m.\u001b[39m\u001b[39m__name__\u001b[39m\n\u001b[0;32m--> <a href='file:///home/agrare/.local/lib/python3.9/site-packages/pandas/core/ops/array_ops.py?line=323'>324</a>\u001b[0m             \u001b[39mraise\u001b[39;00m \u001b[39mTypeError\u001b[39;00m(\n\u001b[1;32m    <a href='file:///home/agrare/.local/lib/python3.9/site-packages/pandas/core/ops/array_ops.py?line=324'>325</a>\u001b[0m                 \u001b[39mf\u001b[39m\u001b[39m\"\u001b[39m\u001b[39mCannot perform \u001b[39m\u001b[39m'\u001b[39m\u001b[39m{\u001b[39;00mop\u001b[39m.\u001b[39m\u001b[39m__name__\u001b[39m\u001b[39m}\u001b[39;00m\u001b[39m'\u001b[39m\u001b[39m with a dtyped [\u001b[39m\u001b[39m{\u001b[39;00mx\u001b[39m.\u001b[39mdtype\u001b[39m}\u001b[39;00m\u001b[39m] array \u001b[39m\u001b[39m\"\u001b[39m\n\u001b[1;32m    <a href='file:///home/agrare/.local/lib/python3.9/site-packages/pandas/core/ops/array_ops.py?line=325'>326</a>\u001b[0m                 \u001b[39mf\u001b[39m\u001b[39m\"\u001b[39m\u001b[39mand scalar of type [\u001b[39m\u001b[39m{\u001b[39;00mtyp\u001b[39m}\u001b[39;00m\u001b[39m]\u001b[39m\u001b[39m\"\u001b[39m\n\u001b[1;32m    <a href='file:///home/agrare/.local/lib/python3.9/site-packages/pandas/core/ops/array_ops.py?line=326'>327</a>\u001b[0m             ) \u001b[39mfrom\u001b[39;00m \u001b[39merr\u001b[39;00m\n\u001b[1;32m    <a href='file:///home/agrare/.local/lib/python3.9/site-packages/pandas/core/ops/array_ops.py?line=328'>329</a>\u001b[0m \u001b[39mreturn\u001b[39;00m result\u001b[39m.\u001b[39mreshape(x\u001b[39m.\u001b[39mshape)\n",
      "\u001b[0;31mTypeError\u001b[0m: Cannot perform 'rand_' with a dtyped [int64] array and scalar of type [bool]"
     ]
    }
   ],
   "source": [
    "display_wins_per_teams(data)"
   ]
  },
  {
   "cell_type": "markdown",
   "id": "abd0406e",
   "metadata": {},
   "source": [
    "**Expected output :**\n",
    "\n",
    "`G2 Esports               48\n",
    " Fnatic                   34\n",
    " MAD Lions                31\n",
    " Rogue                    31\n",
    " Origen                   24\n",
    " FC Schalke 04 Esports    18\n",
    " Misfits Gaming           18\n",
    " Excel Esports            15\n",
    " SK Gaming                13\n",
    " Team Vitality             9\n",
    " dtype: int64`"
   ]
  },
  {
   "cell_type": "markdown",
   "id": "107140ef",
   "metadata": {},
   "source": [
    "### Counter\n",
    "\n",
    "What a team: G2!\n",
    "\n",
    "Aphelios was the most played champion in competition in 2020,\\\n",
    "in my research I noticed that Ezreal was the champion who was the most pick against Aphelios.\\\n",
    "Was this a good decision ?\n",
    "\n",
    "Calculate the winrate of Aphelios against Ezreal,\\\n",
    "Aphelios and Ezreal are champions that are usually played in the role of adc. \\\n",
    "Just use the `blueadc` and `redadc` columns and ```result``` for this exercise."
   ]
  },
  {
   "cell_type": "code",
   "execution_count": null,
   "id": "0cca2db3",
   "metadata": {},
   "outputs": [],
   "source": [
    "def aphelios_vs_ezreal(df):\n",
    "    aphelios_wins = df.loc[((df['blueadc'] == 'Aphelios') & (df['result'] == 1) & (df['redadc'] == 'Ezreal')) | ((df['redadc'] == 'Aphelios') & (df['result'] == 0) & (df['blueadc'] == 'Ezreal'))]\n",
    "    ez_wins = df.loc[((df['blueadc'] == 'Ezreal') & (df['result'] == 1) & (df['redadc'] == 'Aphelios')) | ((df['redadc'] == 'Ezreal') & (df['result'] == 0) & (df['blueadc'] == 'Aphelios'))]\n",
    "    print(aphelios_wins.value_counts().idxmax())\n",
    "    print(ez_wins.value_counts().idxmax())\n",
    "    return None"
   ]
  },
  {
   "cell_type": "code",
   "execution_count": null,
   "id": "4a2c2086",
   "metadata": {},
   "outputs": [
    {
     "name": "stdout",
     "output_type": "stream",
     "text": [
      "(370, 'ESPORTSTMNT05/1410116', 'LEC', 'Origen', 'MAD Lions', 'Gangplank', 'Karthus', 'Ornn', 'Aphelios', 'Leona', 'Chogath', 'RekSai', 'Leblanc', 'Ezreal', 'Yuumi', 1)\n",
      "(60, 'ESPORTSTMNT02/1260533', 'LCS.A', 'TSM Academy', 'Immortals Academy', 'Aatrox', 'Gragas', 'Leblanc', 'Aphelios', 'Leona', 'Urgot', 'LeeSin', 'Nautilus', 'Ezreal', 'Braum', 0)\n"
     ]
    }
   ],
   "source": [
    "aphelios_vs_ezreal(data)"
   ]
  },
  {
   "cell_type": "markdown",
   "id": "856bcff6",
   "metadata": {},
   "source": [
    "**Expected output :** `0.528046421663443`"
   ]
  },
  {
   "cell_type": "markdown",
   "id": "7d57eea4",
   "metadata": {},
   "source": [
    "You have answered all my questions, well done.\\\n",
    "Now you are free to do your analysis.\n",
    "\n",
    "Why don't you try to see with which support Aphelios has the best winrate for example?"
   ]
  },
  {
   "cell_type": "code",
   "execution_count": 247,
   "id": "f22450a5",
   "metadata": {},
   "outputs": [
    {
     "name": "stdout",
     "output_type": "stream",
     "text": [
      "Thresh      147\n",
      "Nautilus     99\n",
      "Braum        51\n",
      "Leona        37\n",
      "Bard         29\n",
      "Name: redsupport, dtype: int64\n",
      "Nautilus    161\n",
      "Thresh      158\n",
      "Braum       104\n",
      "Leona        47\n",
      "Bard         40\n",
      "Name: bluesupport, dtype: int64\n"
     ]
    }
   ],
   "source": [
    "def aphelios_best_supp(df):\n",
    "    \"\"\"\n",
    "        You are free, process the data to try to get out indicators that can be interesting\n",
    "    \"\"\"\n",
    "\n",
    "    aphelios_games_redside = df.loc[((df['redadc'] == 'Aphelios') & (df['result'] == 0))]['redsupport'].value_counts().head()\n",
    "    print(aphelios_games_redside)\n",
    "    aphelios_games_blueside = df.loc[((df['blueadc'] == 'Aphelios') & (df['result'] == 1))]['bluesupport'].value_counts().head()\n",
    "    print(aphelios_games_blueside)\n",
    "\n",
    "    return None\n",
    "\n",
    "aphelios_best_supp(data)"
   ]
  },
  {
   "cell_type": "markdown",
   "id": "0ec43f54",
   "metadata": {},
   "source": [
    "## Well played\n",
    "\n",
    "You were able to see the basic operation of pandas.\\\n",
    "You now understand one of the basics of data science.\n",
    "\n",
    "Fortunately I thought about the brave people who would arrive there, a second topic is waiting for you on a dataset detailing the sale of video games in the world.\n",
    "\n",
    "<img src=\"./image/win.png\"/>"
   ]
  }
 ],
 "metadata": {
  "interpreter": {
   "hash": "31f2aee4e71d21fbe5cf8b01ff0e069b9275f58929596ceb00d14d90e3e16cd6"
  },
  "kernelspec": {
   "display_name": "Python 3.9.7 64-bit",
   "language": "python",
   "name": "python3"
  },
  "language_info": {
   "codemirror_mode": {
    "name": "ipython",
    "version": 3
   },
   "file_extension": ".py",
   "mimetype": "text/x-python",
   "name": "python",
   "nbconvert_exporter": "python",
   "pygments_lexer": "ipython3",
   "version": "3.9.7"
  }
 },
 "nbformat": 4,
 "nbformat_minor": 5
}
